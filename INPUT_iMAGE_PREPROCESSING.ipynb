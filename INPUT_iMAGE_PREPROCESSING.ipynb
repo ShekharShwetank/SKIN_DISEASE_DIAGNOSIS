{
 "cells": [
  {
   "cell_type": "code",
   "execution_count": 2,
   "metadata": {},
   "outputs": [],
   "source": [
    "import os\n",
    "import psutil\n",
    "\n",
    "def print_memory_usage():\n",
    "    process = psutil.Process(os.getpid())\n",
    "    print(f\"Memory usage: {process.memory_info().rss / 1024 ** 2} MB\")\n",
    "\n"
   ]
  },
  {
   "cell_type": "code",
   "execution_count": null,
   "metadata": {},
   "outputs": [],
   "source": [
    "import cv2\n",
    "import os\n",
    "import pandas as pd\n",
    "\n",
    "# Specify the directory you want to use\n",
    "directory = r'YOUR IMAGE FILE DIRECTORY'\n",
    "\n",
    "if not os.path.exists('preprocessed_images'):\n",
    "    os.makedirs('preprocessed_images')\n",
    "\n",
    "count = 0\n",
    "for filename in os.listdir(directory):\n",
    "    \n",
    "    if filename.endswith(\".jpg\") or filename.endswith(\".png\") or filename.endswith(\".JPG\"):  # add more conditions if there are other image types\n",
    "        image_path = os.path.join(directory, filename)\n",
    "    \n",
    "        src = cv2.imread(image_path)\n",
    "\n",
    "        print( src.shape )\n",
    "        cv2.imshow(\"original Image\" , src )\n",
    "        cv2.waitKey(0)\n",
    "\n",
    "        grayScale = cv2.cvtColor( src, cv2.COLOR_RGB2GRAY )\n",
    "        cv2.imshow(\"GrayScale\",grayScale)\n",
    "        cv2.imwrite('grayScale_sample1.jpg', grayScale, [int(cv2.IMWRITE_JPEG_QUALITY), 90])\n",
    "\n",
    "        kernel = cv2.getStructuringElement(1,(17,17))\n",
    "\n",
    "        blackhat = cv2.morphologyEx(grayScale, cv2.MORPH_BLACKHAT, kernel)\n",
    "        cv2.imshow(\"BlackHat\",blackhat)\n",
    "        cv2.imwrite('blackhat_sample1.jpg', blackhat, [int(cv2.IMWRITE_JPEG_QUALITY), 90])\n",
    "\n",
    "        ret,thresh2 = cv2.threshold(blackhat,10,255,cv2.THRESH_BINARY)\n",
    "        print( thresh2.shape )\n",
    "        cv2.imshow(\"Thresholded Mask\",thresh2)\n",
    "        cv2.imwrite('thresholded_sample1.jpg', thresh2, [int(cv2.IMWRITE_JPEG_QUALITY), 90])\n",
    "\n",
    "        dst = cv2.inpaint(src,thresh2,1,cv2.INPAINT_TELEA)\n",
    "        cv2.imshow(\"InPaint\",dst)\n",
    "        count=count+1\n",
    "        print(\"IMAGE\",count)\n",
    "\n",
    "        print_memory_usage()\n",
    "\n",
    "        preprocessed_image_path = os.path.join('preprocessed_images', filename)\n",
    "        cv2.imwrite(preprocessed_image_path, dst, [int(cv2.IMWRITE_JPEG_QUALITY), 90])\n"
   ]
  },
  {
   "cell_type": "code",
   "execution_count": null,
   "metadata": {},
   "outputs": [],
   "source": []
  }
 ],
 "metadata": {
  "kernelspec": {
   "display_name": "Python 3",
   "language": "python",
   "name": "python3"
  },
  "language_info": {
   "codemirror_mode": {
    "name": "ipython",
    "version": 3
   },
   "file_extension": ".py",
   "mimetype": "text/x-python",
   "name": "python",
   "nbconvert_exporter": "python",
   "pygments_lexer": "ipython3",
   "version": "3.11.5"
  }
 },
 "nbformat": 4,
 "nbformat_minor": 2
}
